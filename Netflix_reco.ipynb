{
  "nbformat": 4,
  "nbformat_minor": 0,
  "metadata": {
    "colab": {
      "provenance": [],
      "authorship_tag": "ABX9TyMKbamB8AsQfu0jg6ZrnKaZ",
      "include_colab_link": true
    },
    "kernelspec": {
      "name": "python3",
      "display_name": "Python 3"
    },
    "language_info": {
      "name": "python"
    }
  },
  "cells": [
    {
      "cell_type": "markdown",
      "metadata": {
        "id": "view-in-github",
        "colab_type": "text"
      },
      "source": [
        "<a href=\"https://colab.research.google.com/github/viram29/Projects/blob/main/Netflix_reco.ipynb\" target=\"_parent\"><img src=\"https://colab.research.google.com/assets/colab-badge.svg\" alt=\"Open In Colab\"/></a>"
      ]
    },
    {
      "cell_type": "markdown",
      "source": [
        "# **Netflix Recommendation System using Python**"
      ],
      "metadata": {
        "id": "gLF995xWosvd"
      }
    },
    {
      "cell_type": "markdown",
      "source": [
        "Our goal is to help user find shows and movies to enjoy with minimal effort. Here's how the system works:\n",
        "\n",
        "**User Interactions:** We analyze user's viewing history and how you've rated other titles on our platform.\n",
        "\n",
        "**Similar Preferences:** We compare user's tastes and preferences with other members who have similar viewing habits.\n",
        "\n",
        "**Title Information:** We consider various details about the titles, such as genre, categories, actors, and release year.\n",
        "\n",
        "**Additional Factors:** We take into account factors like the time of day you watch, the devices you use, and user's viewing duration.\n",
        "\n",
        "Our algorithms process all this information to provide personalized recommendations tailored just for you. We don't use demographic data like age or gender in our decision-making process.\n",
        "\n",
        "If you can't find something you want to watch, you can always search our entire catalog. Our search results are influenced by the actions of other members who have entered similar queries, making it easier for you to discover new content.\n",
        "\n",
        "Thank you for using our Netflix recommendation system. Sit back, relax, and enjoy your personalized viewing experience!\n",
        "\n"
      ],
      "metadata": {
        "id": "-xvrNA3io1KJ"
      }
    },
    {
      "cell_type": "markdown",
      "source": [
        "Data from [Kaggle: dated 2021](https://www.kaggle.com/datasets/satpreetmakhija/netflix-movies-and-tv-shows-2021)"
      ],
      "metadata": {
        "id": "tfn7QEWXptiV"
      }
    },
    {
      "cell_type": "code",
      "execution_count": 104,
      "metadata": {
        "id": "xaPSzdSOoNP-"
      },
      "outputs": [],
      "source": [
        "import pandas as pd\n",
        "import nltk\n",
        "import re\n",
        "from sklearn.feature_extraction import text\n",
        "from sklearn.metrics.pairwise import cosine_similarity\n",
        "from sklearn.metrics.pairwise import euclidean_distances\n",
        "from sklearn.feature_extraction.text import TfidfVectorizer\n",
        "import numpy as np\n",
        "from sklearn.model_selection import train_test_split\n",
        "from sklearn.metrics import mean_squared_error"
      ]
    },
    {
      "cell_type": "code",
      "source": [
        "nltk.download('stopwords')\n",
        "stemmer = nltk.SnowballStemmer(\"english\")\n",
        "from nltk.corpus import stopwords\n",
        "import string\n",
        "stopword=set(stopwords.words('english'))"
      ],
      "metadata": {
        "colab": {
          "base_uri": "https://localhost:8080/"
        },
        "id": "QmB_TuBqy_Sl",
        "outputId": "462e9bb6-0807-4a85-f641-5943801f5222"
      },
      "execution_count": 105,
      "outputs": [
        {
          "output_type": "stream",
          "name": "stderr",
          "text": [
            "[nltk_data] Downloading package stopwords to /root/nltk_data...\n",
            "[nltk_data]   Package stopwords is already up-to-date!\n"
          ]
        }
      ]
    },
    {
      "cell_type": "code",
      "source": [
        "file_path = '/content/netflixData.csv'\n",
        "data = pd.read_csv(file_path)"
      ],
      "metadata": {
        "id": "35_hhxuxtBZq"
      },
      "execution_count": 106,
      "outputs": []
    },
    {
      "cell_type": "code",
      "source": [
        "data.head()"
      ],
      "metadata": {
        "colab": {
          "base_uri": "https://localhost:8080/",
          "height": 587
        },
        "id": "ZeYLNqbnt5Lf",
        "outputId": "94e4c619-94e6-4f92-91d2-fab3ae81217b"
      },
      "execution_count": 107,
      "outputs": [
        {
          "output_type": "execute_result",
          "data": {
            "text/plain": [
              "                                Show Id                          Title  \\\n",
              "0  cc1b6ed9-cf9e-4057-8303-34577fb54477                       (Un)Well   \n",
              "1  e2ef4e91-fb25-42ab-b485-be8e3b23dedb                         #Alive   \n",
              "2  b01b73b7-81f6-47a7-86d8-acb63080d525  #AnneFrank - Parallel Stories   \n",
              "3  b6611af0-f53c-4a08-9ffa-9716dc57eb9c                       #blackAF   \n",
              "4  7f2d4170-bab8-4d75-adc2-197f7124c070               #cats_the_mewvie   \n",
              "\n",
              "                                         Description  \\\n",
              "0  This docuseries takes a deep dive into the luc...   \n",
              "1  As a grisly virus rampages a city, a lone man ...   \n",
              "2  Through her diary, Anne Frank's story is retol...   \n",
              "3  Kenya Barris and his family navigate relations...   \n",
              "4  This pawesome documentary explores how our fel...   \n",
              "\n",
              "                      Director  \\\n",
              "0                          NaN   \n",
              "1                       Cho Il   \n",
              "2  Sabina Fedeli, Anna Migotto   \n",
              "3                          NaN   \n",
              "4             Michael Margolis   \n",
              "\n",
              "                                           Genres  \\\n",
              "0                                      Reality TV   \n",
              "1  Horror Movies, International Movies, Thrillers   \n",
              "2             Documentaries, International Movies   \n",
              "3                                     TV Comedies   \n",
              "4             Documentaries, International Movies   \n",
              "\n",
              "                                                Cast Production Country  \\\n",
              "0                                                NaN      United States   \n",
              "1                           Yoo Ah-in, Park Shin-hye        South Korea   \n",
              "2                        Helen Mirren, Gengher Gatti              Italy   \n",
              "3  Kenya Barris, Rashida Jones, Iman Benson, Genn...      United States   \n",
              "4                                                NaN             Canada   \n",
              "\n",
              "   Release Date Rating  Duration Imdb Score Content Type         Date Added  \n",
              "0        2020.0  TV-MA  1 Season     6.6/10      TV Show                NaN  \n",
              "1        2020.0  TV-MA    99 min     6.2/10        Movie  September 8, 2020  \n",
              "2        2019.0  TV-14    95 min     6.4/10        Movie       July 1, 2020  \n",
              "3        2020.0  TV-MA  1 Season     6.6/10      TV Show                NaN  \n",
              "4        2020.0  TV-14    90 min     5.1/10        Movie   February 5, 2020  "
            ],
            "text/html": [
              "\n",
              "  <div id=\"df-e02dd2c7-27b9-4cfa-a68e-458e259342b4\" class=\"colab-df-container\">\n",
              "    <div>\n",
              "<style scoped>\n",
              "    .dataframe tbody tr th:only-of-type {\n",
              "        vertical-align: middle;\n",
              "    }\n",
              "\n",
              "    .dataframe tbody tr th {\n",
              "        vertical-align: top;\n",
              "    }\n",
              "\n",
              "    .dataframe thead th {\n",
              "        text-align: right;\n",
              "    }\n",
              "</style>\n",
              "<table border=\"1\" class=\"dataframe\">\n",
              "  <thead>\n",
              "    <tr style=\"text-align: right;\">\n",
              "      <th></th>\n",
              "      <th>Show Id</th>\n",
              "      <th>Title</th>\n",
              "      <th>Description</th>\n",
              "      <th>Director</th>\n",
              "      <th>Genres</th>\n",
              "      <th>Cast</th>\n",
              "      <th>Production Country</th>\n",
              "      <th>Release Date</th>\n",
              "      <th>Rating</th>\n",
              "      <th>Duration</th>\n",
              "      <th>Imdb Score</th>\n",
              "      <th>Content Type</th>\n",
              "      <th>Date Added</th>\n",
              "    </tr>\n",
              "  </thead>\n",
              "  <tbody>\n",
              "    <tr>\n",
              "      <th>0</th>\n",
              "      <td>cc1b6ed9-cf9e-4057-8303-34577fb54477</td>\n",
              "      <td>(Un)Well</td>\n",
              "      <td>This docuseries takes a deep dive into the luc...</td>\n",
              "      <td>NaN</td>\n",
              "      <td>Reality TV</td>\n",
              "      <td>NaN</td>\n",
              "      <td>United States</td>\n",
              "      <td>2020.0</td>\n",
              "      <td>TV-MA</td>\n",
              "      <td>1 Season</td>\n",
              "      <td>6.6/10</td>\n",
              "      <td>TV Show</td>\n",
              "      <td>NaN</td>\n",
              "    </tr>\n",
              "    <tr>\n",
              "      <th>1</th>\n",
              "      <td>e2ef4e91-fb25-42ab-b485-be8e3b23dedb</td>\n",
              "      <td>#Alive</td>\n",
              "      <td>As a grisly virus rampages a city, a lone man ...</td>\n",
              "      <td>Cho Il</td>\n",
              "      <td>Horror Movies, International Movies, Thrillers</td>\n",
              "      <td>Yoo Ah-in, Park Shin-hye</td>\n",
              "      <td>South Korea</td>\n",
              "      <td>2020.0</td>\n",
              "      <td>TV-MA</td>\n",
              "      <td>99 min</td>\n",
              "      <td>6.2/10</td>\n",
              "      <td>Movie</td>\n",
              "      <td>September 8, 2020</td>\n",
              "    </tr>\n",
              "    <tr>\n",
              "      <th>2</th>\n",
              "      <td>b01b73b7-81f6-47a7-86d8-acb63080d525</td>\n",
              "      <td>#AnneFrank - Parallel Stories</td>\n",
              "      <td>Through her diary, Anne Frank's story is retol...</td>\n",
              "      <td>Sabina Fedeli, Anna Migotto</td>\n",
              "      <td>Documentaries, International Movies</td>\n",
              "      <td>Helen Mirren, Gengher Gatti</td>\n",
              "      <td>Italy</td>\n",
              "      <td>2019.0</td>\n",
              "      <td>TV-14</td>\n",
              "      <td>95 min</td>\n",
              "      <td>6.4/10</td>\n",
              "      <td>Movie</td>\n",
              "      <td>July 1, 2020</td>\n",
              "    </tr>\n",
              "    <tr>\n",
              "      <th>3</th>\n",
              "      <td>b6611af0-f53c-4a08-9ffa-9716dc57eb9c</td>\n",
              "      <td>#blackAF</td>\n",
              "      <td>Kenya Barris and his family navigate relations...</td>\n",
              "      <td>NaN</td>\n",
              "      <td>TV Comedies</td>\n",
              "      <td>Kenya Barris, Rashida Jones, Iman Benson, Genn...</td>\n",
              "      <td>United States</td>\n",
              "      <td>2020.0</td>\n",
              "      <td>TV-MA</td>\n",
              "      <td>1 Season</td>\n",
              "      <td>6.6/10</td>\n",
              "      <td>TV Show</td>\n",
              "      <td>NaN</td>\n",
              "    </tr>\n",
              "    <tr>\n",
              "      <th>4</th>\n",
              "      <td>7f2d4170-bab8-4d75-adc2-197f7124c070</td>\n",
              "      <td>#cats_the_mewvie</td>\n",
              "      <td>This pawesome documentary explores how our fel...</td>\n",
              "      <td>Michael Margolis</td>\n",
              "      <td>Documentaries, International Movies</td>\n",
              "      <td>NaN</td>\n",
              "      <td>Canada</td>\n",
              "      <td>2020.0</td>\n",
              "      <td>TV-14</td>\n",
              "      <td>90 min</td>\n",
              "      <td>5.1/10</td>\n",
              "      <td>Movie</td>\n",
              "      <td>February 5, 2020</td>\n",
              "    </tr>\n",
              "  </tbody>\n",
              "</table>\n",
              "</div>\n",
              "    <div class=\"colab-df-buttons\">\n",
              "\n",
              "  <div class=\"colab-df-container\">\n",
              "    <button class=\"colab-df-convert\" onclick=\"convertToInteractive('df-e02dd2c7-27b9-4cfa-a68e-458e259342b4')\"\n",
              "            title=\"Convert this dataframe to an interactive table.\"\n",
              "            style=\"display:none;\">\n",
              "\n",
              "  <svg xmlns=\"http://www.w3.org/2000/svg\" height=\"24px\" viewBox=\"0 -960 960 960\">\n",
              "    <path d=\"M120-120v-720h720v720H120Zm60-500h600v-160H180v160Zm220 220h160v-160H400v160Zm0 220h160v-160H400v160ZM180-400h160v-160H180v160Zm440 0h160v-160H620v160ZM180-180h160v-160H180v160Zm440 0h160v-160H620v160Z\"/>\n",
              "  </svg>\n",
              "    </button>\n",
              "\n",
              "  <style>\n",
              "    .colab-df-container {\n",
              "      display:flex;\n",
              "      gap: 12px;\n",
              "    }\n",
              "\n",
              "    .colab-df-convert {\n",
              "      background-color: #E8F0FE;\n",
              "      border: none;\n",
              "      border-radius: 50%;\n",
              "      cursor: pointer;\n",
              "      display: none;\n",
              "      fill: #1967D2;\n",
              "      height: 32px;\n",
              "      padding: 0 0 0 0;\n",
              "      width: 32px;\n",
              "    }\n",
              "\n",
              "    .colab-df-convert:hover {\n",
              "      background-color: #E2EBFA;\n",
              "      box-shadow: 0px 1px 2px rgba(60, 64, 67, 0.3), 0px 1px 3px 1px rgba(60, 64, 67, 0.15);\n",
              "      fill: #174EA6;\n",
              "    }\n",
              "\n",
              "    .colab-df-buttons div {\n",
              "      margin-bottom: 4px;\n",
              "    }\n",
              "\n",
              "    [theme=dark] .colab-df-convert {\n",
              "      background-color: #3B4455;\n",
              "      fill: #D2E3FC;\n",
              "    }\n",
              "\n",
              "    [theme=dark] .colab-df-convert:hover {\n",
              "      background-color: #434B5C;\n",
              "      box-shadow: 0px 1px 3px 1px rgba(0, 0, 0, 0.15);\n",
              "      filter: drop-shadow(0px 1px 2px rgba(0, 0, 0, 0.3));\n",
              "      fill: #FFFFFF;\n",
              "    }\n",
              "  </style>\n",
              "\n",
              "    <script>\n",
              "      const buttonEl =\n",
              "        document.querySelector('#df-e02dd2c7-27b9-4cfa-a68e-458e259342b4 button.colab-df-convert');\n",
              "      buttonEl.style.display =\n",
              "        google.colab.kernel.accessAllowed ? 'block' : 'none';\n",
              "\n",
              "      async function convertToInteractive(key) {\n",
              "        const element = document.querySelector('#df-e02dd2c7-27b9-4cfa-a68e-458e259342b4');\n",
              "        const dataTable =\n",
              "          await google.colab.kernel.invokeFunction('convertToInteractive',\n",
              "                                                    [key], {});\n",
              "        if (!dataTable) return;\n",
              "\n",
              "        const docLinkHtml = 'Like what you see? Visit the ' +\n",
              "          '<a target=\"_blank\" href=https://colab.research.google.com/notebooks/data_table.ipynb>data table notebook</a>'\n",
              "          + ' to learn more about interactive tables.';\n",
              "        element.innerHTML = '';\n",
              "        dataTable['output_type'] = 'display_data';\n",
              "        await google.colab.output.renderOutput(dataTable, element);\n",
              "        const docLink = document.createElement('div');\n",
              "        docLink.innerHTML = docLinkHtml;\n",
              "        element.appendChild(docLink);\n",
              "      }\n",
              "    </script>\n",
              "  </div>\n",
              "\n",
              "\n",
              "<div id=\"df-a6170315-a7ea-49e9-a02c-4b9e99332c72\">\n",
              "  <button class=\"colab-df-quickchart\" onclick=\"quickchart('df-a6170315-a7ea-49e9-a02c-4b9e99332c72')\"\n",
              "            title=\"Suggest charts\"\n",
              "            style=\"display:none;\">\n",
              "\n",
              "<svg xmlns=\"http://www.w3.org/2000/svg\" height=\"24px\"viewBox=\"0 0 24 24\"\n",
              "     width=\"24px\">\n",
              "    <g>\n",
              "        <path d=\"M19 3H5c-1.1 0-2 .9-2 2v14c0 1.1.9 2 2 2h14c1.1 0 2-.9 2-2V5c0-1.1-.9-2-2-2zM9 17H7v-7h2v7zm4 0h-2V7h2v10zm4 0h-2v-4h2v4z\"/>\n",
              "    </g>\n",
              "</svg>\n",
              "  </button>\n",
              "\n",
              "<style>\n",
              "  .colab-df-quickchart {\n",
              "      --bg-color: #E8F0FE;\n",
              "      --fill-color: #1967D2;\n",
              "      --hover-bg-color: #E2EBFA;\n",
              "      --hover-fill-color: #174EA6;\n",
              "      --disabled-fill-color: #AAA;\n",
              "      --disabled-bg-color: #DDD;\n",
              "  }\n",
              "\n",
              "  [theme=dark] .colab-df-quickchart {\n",
              "      --bg-color: #3B4455;\n",
              "      --fill-color: #D2E3FC;\n",
              "      --hover-bg-color: #434B5C;\n",
              "      --hover-fill-color: #FFFFFF;\n",
              "      --disabled-bg-color: #3B4455;\n",
              "      --disabled-fill-color: #666;\n",
              "  }\n",
              "\n",
              "  .colab-df-quickchart {\n",
              "    background-color: var(--bg-color);\n",
              "    border: none;\n",
              "    border-radius: 50%;\n",
              "    cursor: pointer;\n",
              "    display: none;\n",
              "    fill: var(--fill-color);\n",
              "    height: 32px;\n",
              "    padding: 0;\n",
              "    width: 32px;\n",
              "  }\n",
              "\n",
              "  .colab-df-quickchart:hover {\n",
              "    background-color: var(--hover-bg-color);\n",
              "    box-shadow: 0 1px 2px rgba(60, 64, 67, 0.3), 0 1px 3px 1px rgba(60, 64, 67, 0.15);\n",
              "    fill: var(--button-hover-fill-color);\n",
              "  }\n",
              "\n",
              "  .colab-df-quickchart-complete:disabled,\n",
              "  .colab-df-quickchart-complete:disabled:hover {\n",
              "    background-color: var(--disabled-bg-color);\n",
              "    fill: var(--disabled-fill-color);\n",
              "    box-shadow: none;\n",
              "  }\n",
              "\n",
              "  .colab-df-spinner {\n",
              "    border: 2px solid var(--fill-color);\n",
              "    border-color: transparent;\n",
              "    border-bottom-color: var(--fill-color);\n",
              "    animation:\n",
              "      spin 1s steps(1) infinite;\n",
              "  }\n",
              "\n",
              "  @keyframes spin {\n",
              "    0% {\n",
              "      border-color: transparent;\n",
              "      border-bottom-color: var(--fill-color);\n",
              "      border-left-color: var(--fill-color);\n",
              "    }\n",
              "    20% {\n",
              "      border-color: transparent;\n",
              "      border-left-color: var(--fill-color);\n",
              "      border-top-color: var(--fill-color);\n",
              "    }\n",
              "    30% {\n",
              "      border-color: transparent;\n",
              "      border-left-color: var(--fill-color);\n",
              "      border-top-color: var(--fill-color);\n",
              "      border-right-color: var(--fill-color);\n",
              "    }\n",
              "    40% {\n",
              "      border-color: transparent;\n",
              "      border-right-color: var(--fill-color);\n",
              "      border-top-color: var(--fill-color);\n",
              "    }\n",
              "    60% {\n",
              "      border-color: transparent;\n",
              "      border-right-color: var(--fill-color);\n",
              "    }\n",
              "    80% {\n",
              "      border-color: transparent;\n",
              "      border-right-color: var(--fill-color);\n",
              "      border-bottom-color: var(--fill-color);\n",
              "    }\n",
              "    90% {\n",
              "      border-color: transparent;\n",
              "      border-bottom-color: var(--fill-color);\n",
              "    }\n",
              "  }\n",
              "</style>\n",
              "\n",
              "  <script>\n",
              "    async function quickchart(key) {\n",
              "      const quickchartButtonEl =\n",
              "        document.querySelector('#' + key + ' button');\n",
              "      quickchartButtonEl.disabled = true;  // To prevent multiple clicks.\n",
              "      quickchartButtonEl.classList.add('colab-df-spinner');\n",
              "      try {\n",
              "        const charts = await google.colab.kernel.invokeFunction(\n",
              "            'suggestCharts', [key], {});\n",
              "      } catch (error) {\n",
              "        console.error('Error during call to suggestCharts:', error);\n",
              "      }\n",
              "      quickchartButtonEl.classList.remove('colab-df-spinner');\n",
              "      quickchartButtonEl.classList.add('colab-df-quickchart-complete');\n",
              "    }\n",
              "    (() => {\n",
              "      let quickchartButtonEl =\n",
              "        document.querySelector('#df-a6170315-a7ea-49e9-a02c-4b9e99332c72 button');\n",
              "      quickchartButtonEl.style.display =\n",
              "        google.colab.kernel.accessAllowed ? 'block' : 'none';\n",
              "    })();\n",
              "  </script>\n",
              "</div>\n",
              "\n",
              "    </div>\n",
              "  </div>\n"
            ],
            "application/vnd.google.colaboratory.intrinsic+json": {
              "type": "dataframe",
              "variable_name": "data",
              "summary": "{\n  \"name\": \"data\",\n  \"rows\": 5967,\n  \"fields\": [\n    {\n      \"column\": \"Show Id\",\n      \"properties\": {\n        \"dtype\": \"string\",\n        \"num_unique_values\": 5967,\n        \"samples\": [\n          \"c88ffc47-19a7-468d-8c05-c8f668336606\",\n          \"28408731-0ba1-469a-9575-1a4765c644c4\",\n          \"3600d857-e8b0-4a75-a5e3-0d02f0929414\"\n        ],\n        \"semantic_type\": \"\",\n        \"description\": \"\"\n      }\n    },\n    {\n      \"column\": \"Title\",\n      \"properties\": {\n        \"dtype\": \"string\",\n        \"num_unique_values\": 5897,\n        \"samples\": [\n          \"White Boy\",\n          \"Hazaaron Khwaishein Aisi\",\n          \"Geez & Ann\"\n        ],\n        \"semantic_type\": \"\",\n        \"description\": \"\"\n      }\n    },\n    {\n      \"column\": \"Description\",\n      \"properties\": {\n        \"dtype\": \"string\",\n        \"num_unique_values\": 5946,\n        \"samples\": [\n          \"Two siblings set sail as a crew on a yacht on the Aegean Sea. Circumstances soon change when a young documentary filmmaker comes aboard.\",\n          \"Follow talent management company Pets on Q as they work with the biggest animal influencers on social media in this reality series.\",\n          \"A young mother embarks on a desperate quest for freedom when she kidnaps her 10-year-old daughter to save her from a tribal marriage.\"\n        ],\n        \"semantic_type\": \"\",\n        \"description\": \"\"\n      }\n    },\n    {\n      \"column\": \"Director\",\n      \"properties\": {\n        \"dtype\": \"string\",\n        \"num_unique_values\": 2993,\n        \"samples\": [\n          \"Liam O'Donnell\",\n          \"B. Subhash\",\n          \"Lester Hsi\"\n        ],\n        \"semantic_type\": \"\",\n        \"description\": \"\"\n      }\n    },\n    {\n      \"column\": \"Genres\",\n      \"properties\": {\n        \"dtype\": \"category\",\n        \"num_unique_values\": 433,\n        \"samples\": [\n          \"International TV Shows, Korean TV Shows, Reality TV\",\n          \"Dramas\",\n          \"Children & Family Movies, Dramas, Faith & Spirituality\"\n        ],\n        \"semantic_type\": \"\",\n        \"description\": \"\"\n      }\n    },\n    {\n      \"column\": \"Cast\",\n      \"properties\": {\n        \"dtype\": \"string\",\n        \"num_unique_values\": 5245,\n        \"samples\": [\n          \"Cho Jung-seok, Yoo Yeon-seok, Jung Kyung-ho, Kim Dae-myeong, Jeon Mi-do, Kim Hae-suk, Kim Kap-soo, Jung Moon-sung\",\n          \"Smita Tambe, Milind Shirole, Shwetambari Ghute, Shitanshu Kumar Sharad, Nishikant Rawji, Sanjivani Khanvilkar\",\n          \"Lisa Sanders\"\n        ],\n        \"semantic_type\": \"\",\n        \"description\": \"\"\n      }\n    },\n    {\n      \"column\": \"Production Country\",\n      \"properties\": {\n        \"dtype\": \"category\",\n        \"num_unique_values\": 509,\n        \"samples\": [\n          \"United Kingdom, Canada, United States, Germany\",\n          \"Netherlands, United States\",\n          \"United Kingdom, Germany, France, United States\"\n        ],\n        \"semantic_type\": \"\",\n        \"description\": \"\"\n      }\n    },\n    {\n      \"column\": \"Release Date\",\n      \"properties\": {\n        \"dtype\": \"number\",\n        \"std\": 7.257391004896068,\n        \"min\": 1925.0,\n        \"max\": 2021.0,\n        \"num_unique_values\": 65,\n        \"samples\": [\n          1977.0,\n          1960.0,\n          2020.0\n        ],\n        \"semantic_type\": \"\",\n        \"description\": \"\"\n      }\n    },\n    {\n      \"column\": \"Rating\",\n      \"properties\": {\n        \"dtype\": \"category\",\n        \"num_unique_values\": 11,\n        \"samples\": [\n          \"R\",\n          \"TV-MA\",\n          \"G\"\n        ],\n        \"semantic_type\": \"\",\n        \"description\": \"\"\n      }\n    },\n    {\n      \"column\": \"Duration\",\n      \"properties\": {\n        \"dtype\": \"category\",\n        \"num_unique_values\": 207,\n        \"samples\": [\n          \"149 min\",\n          \"4 Seasons\",\n          \"133 min\"\n        ],\n        \"semantic_type\": \"\",\n        \"description\": \"\"\n      }\n    },\n    {\n      \"column\": \"Imdb Score\",\n      \"properties\": {\n        \"dtype\": \"category\",\n        \"num_unique_values\": 79,\n        \"samples\": [\n          \"3.2/10\",\n          \"6.6/10\",\n          \"8.4/10\"\n        ],\n        \"semantic_type\": \"\",\n        \"description\": \"\"\n      }\n    },\n    {\n      \"column\": \"Content Type\",\n      \"properties\": {\n        \"dtype\": \"category\",\n        \"num_unique_values\": 2,\n        \"samples\": [\n          \"Movie\",\n          \"TV Show\"\n        ],\n        \"semantic_type\": \"\",\n        \"description\": \"\"\n      }\n    },\n    {\n      \"column\": \"Date Added\",\n      \"properties\": {\n        \"dtype\": \"date\",\n        \"min\": \"2008-01-01 00:00:00\",\n        \"max\": \"2021-07-16 00:00:00\",\n        \"num_unique_values\": 1283,\n        \"samples\": [\n          \"March 13, 2019\",\n          \"December 6, 2017\"\n        ],\n        \"semantic_type\": \"\",\n        \"description\": \"\"\n      }\n    }\n  ]\n}"
            }
          },
          "metadata": {},
          "execution_count": 107
        }
      ]
    },
    {
      "cell_type": "code",
      "source": [
        "print(data.isnull().sum())"
      ],
      "metadata": {
        "colab": {
          "base_uri": "https://localhost:8080/"
        },
        "id": "VgV8BE0LwN2O",
        "outputId": "f2a8c351-d5e4-445d-9362-4ed5e8161417"
      },
      "execution_count": 108,
      "outputs": [
        {
          "output_type": "stream",
          "name": "stdout",
          "text": [
            "Show Id                  0\n",
            "Title                    0\n",
            "Description              0\n",
            "Director              2064\n",
            "Genres                   0\n",
            "Cast                   530\n",
            "Production Country     559\n",
            "Release Date             3\n",
            "Rating                   4\n",
            "Duration                 3\n",
            "Imdb Score             608\n",
            "Content Type             0\n",
            "Date Added            1335\n",
            "dtype: int64\n"
          ]
        }
      ]
    },
    {
      "cell_type": "code",
      "source": [
        "data = data[[\"Title\", \"Description\", \"Content Type\", \"Genres\"]]\n",
        "print(data.head())"
      ],
      "metadata": {
        "colab": {
          "base_uri": "https://localhost:8080/"
        },
        "id": "W_hMp4PTwakH",
        "outputId": "28d37380-4b68-4a34-ae80-df60a5709542"
      },
      "execution_count": 109,
      "outputs": [
        {
          "output_type": "stream",
          "name": "stdout",
          "text": [
            "                           Title  \\\n",
            "0                       (Un)Well   \n",
            "1                         #Alive   \n",
            "2  #AnneFrank - Parallel Stories   \n",
            "3                       #blackAF   \n",
            "4               #cats_the_mewvie   \n",
            "\n",
            "                                         Description Content Type  \\\n",
            "0  This docuseries takes a deep dive into the luc...      TV Show   \n",
            "1  As a grisly virus rampages a city, a lone man ...        Movie   \n",
            "2  Through her diary, Anne Frank's story is retol...        Movie   \n",
            "3  Kenya Barris and his family navigate relations...      TV Show   \n",
            "4  This pawesome documentary explores how our fel...        Movie   \n",
            "\n",
            "                                           Genres  \n",
            "0                                      Reality TV  \n",
            "1  Horror Movies, International Movies, Thrillers  \n",
            "2             Documentaries, International Movies  \n",
            "3                                     TV Comedies  \n",
            "4             Documentaries, International Movies  \n"
          ]
        }
      ]
    },
    {
      "cell_type": "code",
      "source": [
        "data_with_genres = pd.concat([data, genres_split], axis=1)\n",
        "genre_counts = data_with_genres.pivot_table(index='Genres', columns='Content Type', values='Title', aggfunc='count')\n",
        "print(genre_counts)"
      ],
      "metadata": {
        "colab": {
          "base_uri": "https://localhost:8080/"
        },
        "id": "R7NeaSDFwqtu",
        "outputId": "d11c381a-5c1b-4a78-f44c-5f8fe790ff4e"
      },
      "execution_count": 110,
      "outputs": [
        {
          "output_type": "stream",
          "name": "stdout",
          "text": [
            "Content Type                                        Movie  TV Show\n",
            "Genres                                                            \n",
            "Action & Adventure                                   65.0      NaN\n",
            "Action & Adventure, Anime Features, Children & ...    3.0      NaN\n",
            "Action & Adventure, Anime Features, Classic Movies    2.0      NaN\n",
            "Action & Adventure, Anime Features, Horror Movies     1.0      NaN\n",
            "Action & Adventure, Anime Features, Internation...   31.0      NaN\n",
            "...                                                   ...      ...\n",
            "TV Horror, TV Mysteries, Teen TV Shows                NaN      1.0\n",
            "TV Horror, Teen TV Shows                              NaN      2.0\n",
            "TV Sci-Fi & Fantasy, TV Thrillers                     NaN      1.0\n",
            "TV Shows                                              NaN      9.0\n",
            "Thrillers                                            33.0      NaN\n",
            "\n",
            "[433 rows x 2 columns]\n"
          ]
        }
      ]
    },
    {
      "cell_type": "code",
      "source": [
        "data = data.dropna()"
      ],
      "metadata": {
        "id": "Hwq6-ywCymd9"
      },
      "execution_count": 111,
      "outputs": []
    },
    {
      "cell_type": "code",
      "source": [
        "def clean(text):\n",
        "    text = str(text).lower()\n",
        "    text = re.sub('\\[.*?\\]', '', text)\n",
        "    text = re.sub('https?://\\S+|www\\.\\S+', '', text)\n",
        "    text = re.sub('<.*?>+', '', text)\n",
        "    text = re.sub('[%s]' % re.escape(string.punctuation), '', text)\n",
        "    text = re.sub('\\n', '', text)\n",
        "    text = re.sub('\\w*\\d\\w*', '', text)\n",
        "    text = [word for word in text.split(' ') if word not in stopword]\n",
        "    text=\" \".join(text)\n",
        "    text = [stemmer.stem(word) for word in text.split(' ')]\n",
        "    text=\" \".join(text)\n",
        "    return text"
      ],
      "metadata": {
        "id": "ODmw7k44y4xk"
      },
      "execution_count": 112,
      "outputs": []
    },
    {
      "cell_type": "code",
      "source": [
        "data[\"Title\"] = data[\"Title\"].apply(clean)"
      ],
      "metadata": {
        "id": "KtE47VnQzElz"
      },
      "execution_count": 113,
      "outputs": []
    },
    {
      "cell_type": "code",
      "source": [
        "print(data.Title.sample(10))"
      ],
      "metadata": {
        "colab": {
          "base_uri": "https://localhost:8080/"
        },
        "id": "9bnHv0NkzJxE",
        "outputId": "5c42f36d-d079-48ac-bc33-075416c4fbf7"
      },
      "execution_count": 114,
      "outputs": [
        {
          "output_type": "stream",
          "name": "stdout",
          "text": [
            "4050               safeti guarante\n",
            "5322                         world\n",
            "1621                    fightworld\n",
            "1226                       deadcon\n",
            "2224                  famili trust\n",
            "1627                      find agn\n",
            "1324                  disco dancer\n",
            "1584    fate winx saga  afterparti\n",
            "4355               southern surviv\n",
            "4107                           say\n",
            "Name: Title, dtype: object\n"
          ]
        }
      ]
    },
    {
      "cell_type": "code",
      "source": [
        "feature = data[\"Genres\"].tolist()\n",
        "tfidf = text.TfidfVectorizer(stop_words=\"english\")\n",
        "tfidf_matrix = tfidf.fit_transform(feature)\n",
        "similarity = cosine_similarity(tfidf_matrix)\n",
        "#print(similarity)"
      ],
      "metadata": {
        "id": "ktL9yWa_zcvn"
      },
      "execution_count": 115,
      "outputs": []
    },
    {
      "cell_type": "code",
      "source": [
        "indices = pd.Series(data.index,index=data['Title']).drop_duplicates()"
      ],
      "metadata": {
        "id": "ZuDb1WiY3wTI"
      },
      "execution_count": 116,
      "outputs": []
    },
    {
      "cell_type": "code",
      "source": [
        "def netflix_recommendation(title, similarity=similarity):\n",
        "    # Ensure similarity is properly passed to the function\n",
        "    if similarity is None:\n",
        "        raise ValueError(\"Similarity was not found.\")\n",
        "\n",
        "    # Retrieve the index of the input movie title\n",
        "    index = indices[title]\n",
        "\n",
        "    # Get similarity scores between the input movie and all other movies\n",
        "    similarity_scores = list(enumerate(similarity[index]))\n",
        "\n",
        "    # Sort similarity scores in descending order\n",
        "    similarity_scores = sorted(similarity_scores, key=lambda x: x[1], reverse=True)\n",
        "\n",
        "    # Select top 10 similar movies\n",
        "    similarity_scores = similarity_scores[0:10]\n",
        "\n",
        "    # Get indices of the top similar movies\n",
        "    movie_indices = [i[0] for i in similarity_scores]\n",
        "\n",
        "    # Return titles of the top similar movies\n",
        "    return data['Title'].iloc[movie_indices]\n",
        "\n",
        "# Call the function with the title \"champion\"\n",
        "print(netflix_recommendation(\"lie april\"))\n"
      ],
      "metadata": {
        "colab": {
          "base_uri": "https://localhost:8080/"
        },
        "id": "4Mha5fmP4PGf",
        "outputId": "ce974dfa-8e0c-4fa3-87ef-a97d4e33720b"
      },
      "execution_count": 117,
      "outputs": [
        {
          "output_type": "stream",
          "name": "stdout",
          "text": [
            "2009          heaven offici bless\n",
            "2040                hi score girl\n",
            "4570        teas master takagisan\n",
            "5448                     toradora\n",
            "5642                vampir knight\n",
            "5670            violet evergarden\n",
            "5672    violet evergarden special\n",
            "5921                    lie april\n",
            "2907                     maidsama\n",
            "3171        month girl nozaki kun\n",
            "Name: Title, dtype: object\n"
          ]
        }
      ]
    },
    {
      "cell_type": "code",
      "source": [
        "# Concatenate all genres into a single string for each item\n",
        "data[\"Genres\"] = data[\"Genres\"].apply(lambda x: ' '.join(x.split(', ')))\n",
        "# Extract features (genres) as a list of strings\n",
        "features = data[\"Genres\"].tolist()\n",
        "# Initialize TF-IDF vectorizer\n",
        "tfidf = TfidfVectorizer(stop_words=\"english\")\n",
        "# Compute TF-IDF matrix\n",
        "tfidf_matrix = tfidf.fit_transform(features)\n",
        "# Compute Euclidean distance matrix\n",
        "euclidean_distance = euclidean_distances(tfidf_matrix, tfidf_matrix)"
      ],
      "metadata": {
        "id": "BatBHFPA64TO"
      },
      "execution_count": 118,
      "outputs": []
    },
    {
      "cell_type": "code",
      "source": [
        "# Define function for recommendation using Euclidean distance\n",
        "def netflix_recommendation(title, similarity_matrix=euclidean_distance):\n",
        "    # Retrieve the index of the input movie title\n",
        "    index = indices[title]\n",
        "\n",
        "    # Get similarity scores (Euclidean distances) between the input movie and all other movies\n",
        "    similarity_scores = list(enumerate(similarity_matrix[index]))\n",
        "\n",
        "    # Sort similarity scores in ascending order (since Euclidean distance is used)\n",
        "    similarity_scores = sorted(similarity_scores, key=lambda x: x[1])\n",
        "\n",
        "    # Select top 10 similar movies\n",
        "    similarity_scores = similarity_scores[1:11]  # Exclude the movie itself (at index 0)\n",
        "\n",
        "    # Get indices of the top similar movies\n",
        "    movie_indices = [i[0] for i in similarity_scores]\n",
        "\n",
        "    # Return titles of the top similar movies\n",
        "    return data['Title'].iloc[movie_indices]\n",
        "\n",
        "# Call the function with the title \"champion\"\n",
        "print(netflix_recommendation(\"lie april\"))"
      ],
      "metadata": {
        "colab": {
          "base_uri": "https://localhost:8080/"
        },
        "id": "MFSZLndd7E-d",
        "outputId": "d837edc5-5f5b-4a58-b0de-23b5c4538741"
      },
      "execution_count": 119,
      "outputs": [
        {
          "output_type": "stream",
          "name": "stdout",
          "text": [
            "2040                hi score girl\n",
            "4570        teas master takagisan\n",
            "5448                     toradora\n",
            "5642                vampir knight\n",
            "5670            violet evergarden\n",
            "5672    violet evergarden special\n",
            "5921                    lie april\n",
            "2907                     maidsama\n",
            "3171        month girl nozaki kun\n",
            "79                               \n",
            "Name: Title, dtype: object\n"
          ]
        }
      ]
    }
  ]
}